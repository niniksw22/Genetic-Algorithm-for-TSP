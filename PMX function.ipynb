import numpy as np

def crossover(parent1, parent2):
    size = len(parent1)
    start = np.random.randint(0, size - 1)
    end = np.random.randint(start + 1, size)
    child = [None] * size

    # Copy a section of the first parent to the child
    child[start:end] = parent1[start:end]
    
    print("Segmen: ", child[start:end])
    # Map the section from the second parent to the child
    for idx in range(start, end):
        if parent2[idx] not in child:
            # Find the corresponding city from parent2
            idx2 = parent2.index(child[idx])
            while child[idx2] is not None:
                idx2 = parent2.index(child[idx2])
            child[idx2] = parent2[idx]

    # Fill in the remaining elements with cities from parent2
    for idx in range(size):
        if child[idx] is None:
            child[idx] = parent2[idx]

    return child

# Example parents
parent1 = [8, 4, 7, 3, 6, 2, 5, 1, 9, 0]
parent2 = [0, 1, 2, 3, 4, 5, 6, 7, 8, 9]

child1 = crossover(parent1, parent2)
print(child1)
