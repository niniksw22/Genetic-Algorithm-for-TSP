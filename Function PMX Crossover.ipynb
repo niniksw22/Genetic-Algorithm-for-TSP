{
 "cells": [
  {
   "cell_type": "code",
   "execution_count": 1,
   "id": "8cc997d9",
   "metadata": {},
   "outputs": [
    {
     "name": "stdout",
     "output_type": "stream",
     "text": [
      "Segmen:  [7, 3, 6, 2, 5]\n",
      "Child :  [0, 1, 7, 3, 6, 2, 5, 4, 8, 9]\n"
     ]
    }
   ],
   "source": [
    "import numpy as np\n",
    "\n",
    "def crossover(parent1, parent2):\n",
    "    size = len(parent1)\n",
    "    start = np.random.randint(0, size - 1)\n",
    "    end = np.random.randint(start + 1, size)\n",
    "    child = [None] * size\n",
    "\n",
    "    # Copy a section of the first parent to the child\n",
    "    child[start:end] = parent1[start:end]\n",
    "    \n",
    "    print(\"Segmen: \", child[start:end])\n",
    "    # Map the section from the second parent to the child\n",
    "    for idx in range(start, end):\n",
    "        if parent2[idx] not in child:\n",
    "            # Find the corresponding city from parent2\n",
    "            idx2 = parent2.index(child[idx])\n",
    "            while child[idx2] is not None:\n",
    "                idx2 = parent2.index(child[idx2])\n",
    "            child[idx2] = parent2[idx]\n",
    "\n",
    "    # Fill in the remaining elements with cities from parent2\n",
    "    for idx in range(size):\n",
    "        if child[idx] is None:\n",
    "            child[idx] = parent2[idx]\n",
    "\n",
    "    return child\n",
    "\n",
    "# Example parents\n",
    "parent1 = [8, 4, 7, 3, 6, 2, 5, 1, 9, 0]\n",
    "parent2 = [0, 1, 2, 3, 4, 5, 6, 7, 8, 9]\n",
    "\n",
    "child1 = crossover(parent1, parent2)\n",
    "print(\"Child : \", child1)\n"
   ]
  }
 ],
 "metadata": {
  "kernelspec": {
   "display_name": "Python 3 (ipykernel)",
   "language": "python",
   "name": "python3"
  },
  "language_info": {
   "codemirror_mode": {
    "name": "ipython",
    "version": 3
   },
   "file_extension": ".py",
   "mimetype": "text/x-python",
   "name": "python",
   "nbconvert_exporter": "python",
   "pygments_lexer": "ipython3",
   "version": "3.9.13"
  }
 },
 "nbformat": 4,
 "nbformat_minor": 5
}
